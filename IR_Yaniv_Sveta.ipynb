{
 "cells": [
  {
   "cell_type": "code",
   "execution_count": 43,
   "metadata": {},
   "outputs": [],
   "source": [
    "import glob\n",
    "import errno\n",
    "path = 'awaiting_documents/*.txt'\n",
    "files = glob.glob(path)\n",
    "file = []\n",
    "for name in files:\n",
    "    try:\n",
    "        file.append(open(name))\n",
    "    except IOError as exc:\n",
    "        if exc.errno != errno.EISDIR:\n",
    "            raise"
   ]
  },
  {
   "cell_type": "code",
   "execution_count": 44,
   "metadata": {},
   "outputs": [
    {
     "data": {
      "text/plain": [
       "\"MATILDA JANE, you never look\\nAt any toy or picture-book.\\nI show you pretty things in vain--\\nYou must be blind, Matilda Jane!\\n \\nI ask you riddles, tell you tales,\\nBut all our conversation fails.\\nYou never answer me again--\\nI fear you're dumb, Matilda Jane!\\n \\nMatilda darling, when I call,\\nYou never seem to hear at all.\\nI shout with all my might and main--\\nBut you're so deaf, Matilda Jane!\\n \\nMatilda Jane, you needn't mind,\\nFor, though you're deaf and dumb and blind,\\nThere's some one loves you, it is plain--\\nAnd that is me, Matilda Jane!\""
      ]
     },
     "execution_count": 44,
     "metadata": {},
     "output_type": "execute_result"
    }
   ],
   "source": [
    "file[0].read()"
   ]
  },
  {
   "cell_type": "code",
   "execution_count": 40,
   "metadata": {},
   "outputs": [
    {
     "data": {
      "text/plain": [
       "\"SLEEP, sleep, beauty bright,\\nDreaming in the joys of night;\\nSleep, sleep; in thy sleep\\nLittle sorrows sit and weep.\\n \\nSweet babe, in thy face\\nSoft desires I can trace,\\nSecret joys and secret smiles,\\nLittle pretty infant wiles.\\n \\nAs thy softest limbs I feel,\\nSmiles as of the morning steal\\nO'er thy cheek, and o'er thy breast\\nWhere thy little heart doth rest.\\n \\nO the cunning wiles that creep\\nIn thy little heart asleep!\\nWhen thy little heart doth wake,\\nThen the dreadful night shall break.\""
      ]
     },
     "execution_count": 40,
     "metadata": {},
     "output_type": "execute_result"
    }
   ],
   "source": [
    "file[1].read()"
   ]
  },
  {
   "cell_type": "code",
   "execution_count": null,
   "metadata": {},
   "outputs": [],
   "source": []
  }
 ],
 "metadata": {
  "kernelspec": {
   "display_name": "Python 3",
   "language": "python",
   "name": "python3"
  },
  "language_info": {
   "codemirror_mode": {
    "name": "ipython",
    "version": 3
   },
   "file_extension": ".py",
   "mimetype": "text/x-python",
   "name": "python",
   "nbconvert_exporter": "python",
   "pygments_lexer": "ipython3",
   "version": "3.7.0"
  }
 },
 "nbformat": 4,
 "nbformat_minor": 2
}
